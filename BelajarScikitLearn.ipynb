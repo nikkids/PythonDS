{
  "nbformat": 4,
  "nbformat_minor": 0,
  "metadata": {
    "colab": {
      "provenance": [],
      "toc_visible": true
    },
    "kernelspec": {
      "name": "python3",
      "display_name": "Python 3"
    },
    "language_info": {
      "name": "python"
    }
  },
  "cells": [
    {
      "cell_type": "code",
      "execution_count": null,
      "metadata": {
        "colab": {
          "base_uri": "https://localhost:8080/"
        },
        "id": "jcSiwZvdQlfv",
        "outputId": "6427deb2-f9e8-4f51-c540-5e8a92d4145a"
      },
      "outputs": [
        {
          "output_type": "stream",
          "name": "stdout",
          "text": [
            "Requirement already satisfied: scikit-learn in /usr/local/lib/python3.10/dist-packages (1.3.2)\n",
            "Requirement already satisfied: numpy<2.0,>=1.17.3 in /usr/local/lib/python3.10/dist-packages (from scikit-learn) (1.26.4)\n",
            "Requirement already satisfied: scipy>=1.5.0 in /usr/local/lib/python3.10/dist-packages (from scikit-learn) (1.13.1)\n",
            "Requirement already satisfied: joblib>=1.1.1 in /usr/local/lib/python3.10/dist-packages (from scikit-learn) (1.4.2)\n",
            "Requirement already satisfied: threadpoolctl>=2.0.0 in /usr/local/lib/python3.10/dist-packages (from scikit-learn) (3.5.0)\n"
          ]
        }
      ],
      "source": [
        "%pip install scikit-learn"
      ]
    },
    {
      "cell_type": "code",
      "source": [
        "from sklearn.datasets import load_diabetes"
      ],
      "metadata": {
        "id": "EtyufM2DSIbT"
      },
      "execution_count": null,
      "outputs": []
    },
    {
      "cell_type": "code",
      "source": [
        "x,y = load_diabetes(return_X_y = True)\n",
        "x,y"
      ],
      "metadata": {
        "colab": {
          "base_uri": "https://localhost:8080/"
        },
        "id": "s-T-cevmSg0R",
        "outputId": "e824274a-e27b-489e-e01b-2aad66b0fbee"
      },
      "execution_count": null,
      "outputs": [
        {
          "output_type": "execute_result",
          "data": {
            "text/plain": [
              "(array([[ 0.03807591,  0.05068012,  0.06169621, ..., -0.00259226,\n",
              "          0.01990749, -0.01764613],\n",
              "        [-0.00188202, -0.04464164, -0.05147406, ..., -0.03949338,\n",
              "         -0.06833155, -0.09220405],\n",
              "        [ 0.08529891,  0.05068012,  0.04445121, ..., -0.00259226,\n",
              "          0.00286131, -0.02593034],\n",
              "        ...,\n",
              "        [ 0.04170844,  0.05068012, -0.01590626, ..., -0.01107952,\n",
              "         -0.04688253,  0.01549073],\n",
              "        [-0.04547248, -0.04464164,  0.03906215, ...,  0.02655962,\n",
              "          0.04452873, -0.02593034],\n",
              "        [-0.04547248, -0.04464164, -0.0730303 , ..., -0.03949338,\n",
              "         -0.00422151,  0.00306441]]),\n",
              " array([151.,  75., 141., 206., 135.,  97., 138.,  63., 110., 310., 101.,\n",
              "         69., 179., 185., 118., 171., 166., 144.,  97., 168.,  68.,  49.,\n",
              "         68., 245., 184., 202., 137.,  85., 131., 283., 129.,  59., 341.,\n",
              "         87.,  65., 102., 265., 276., 252.,  90., 100.,  55.,  61.,  92.,\n",
              "        259.,  53., 190., 142.,  75., 142., 155., 225.,  59., 104., 182.,\n",
              "        128.,  52.,  37., 170., 170.,  61., 144.,  52., 128.,  71., 163.,\n",
              "        150.,  97., 160., 178.,  48., 270., 202., 111.,  85.,  42., 170.,\n",
              "        200., 252., 113., 143.,  51.,  52., 210.,  65., 141.,  55., 134.,\n",
              "         42., 111.,  98., 164.,  48.,  96.,  90., 162., 150., 279.,  92.,\n",
              "         83., 128., 102., 302., 198.,  95.,  53., 134., 144., 232.,  81.,\n",
              "        104.,  59., 246., 297., 258., 229., 275., 281., 179., 200., 200.,\n",
              "        173., 180.,  84., 121., 161.,  99., 109., 115., 268., 274., 158.,\n",
              "        107.,  83., 103., 272.,  85., 280., 336., 281., 118., 317., 235.,\n",
              "         60., 174., 259., 178., 128.,  96., 126., 288.,  88., 292.,  71.,\n",
              "        197., 186.,  25.,  84.,  96., 195.,  53., 217., 172., 131., 214.,\n",
              "         59.,  70., 220., 268., 152.,  47.,  74., 295., 101., 151., 127.,\n",
              "        237., 225.,  81., 151., 107.,  64., 138., 185., 265., 101., 137.,\n",
              "        143., 141.,  79., 292., 178.,  91., 116.,  86., 122.,  72., 129.,\n",
              "        142.,  90., 158.,  39., 196., 222., 277.,  99., 196., 202., 155.,\n",
              "         77., 191.,  70.,  73.,  49.,  65., 263., 248., 296., 214., 185.,\n",
              "         78.,  93., 252., 150.,  77., 208.,  77., 108., 160.,  53., 220.,\n",
              "        154., 259.,  90., 246., 124.,  67.,  72., 257., 262., 275., 177.,\n",
              "         71.,  47., 187., 125.,  78.,  51., 258., 215., 303., 243.,  91.,\n",
              "        150., 310., 153., 346.,  63.,  89.,  50.,  39., 103., 308., 116.,\n",
              "        145.,  74.,  45., 115., 264.,  87., 202., 127., 182., 241.,  66.,\n",
              "         94., 283.,  64., 102., 200., 265.,  94., 230., 181., 156., 233.,\n",
              "         60., 219.,  80.,  68., 332., 248.,  84., 200.,  55.,  85.,  89.,\n",
              "         31., 129.,  83., 275.,  65., 198., 236., 253., 124.,  44., 172.,\n",
              "        114., 142., 109., 180., 144., 163., 147.,  97., 220., 190., 109.,\n",
              "        191., 122., 230., 242., 248., 249., 192., 131., 237.,  78., 135.,\n",
              "        244., 199., 270., 164.,  72.,  96., 306.,  91., 214.,  95., 216.,\n",
              "        263., 178., 113., 200., 139., 139.,  88., 148.,  88., 243.,  71.,\n",
              "         77., 109., 272.,  60.,  54., 221.,  90., 311., 281., 182., 321.,\n",
              "         58., 262., 206., 233., 242., 123., 167.,  63., 197.,  71., 168.,\n",
              "        140., 217., 121., 235., 245.,  40.,  52., 104., 132.,  88.,  69.,\n",
              "        219.,  72., 201., 110.,  51., 277.,  63., 118.,  69., 273., 258.,\n",
              "         43., 198., 242., 232., 175.,  93., 168., 275., 293., 281.,  72.,\n",
              "        140., 189., 181., 209., 136., 261., 113., 131., 174., 257.,  55.,\n",
              "         84.,  42., 146., 212., 233.,  91., 111., 152., 120.,  67., 310.,\n",
              "         94., 183.,  66., 173.,  72.,  49.,  64.,  48., 178., 104., 132.,\n",
              "        220.,  57.]))"
            ]
          },
          "metadata": {},
          "execution_count": 71
        }
      ]
    },
    {
      "cell_type": "markdown",
      "source": [
        "# **K Nearest Neighbor**"
      ],
      "metadata": {
        "id": "M1T5LaXfUZkI"
      }
    },
    {
      "cell_type": "code",
      "source": [
        "#KNN\n",
        "from sklearn.neighbors import KNeighborsRegressor"
      ],
      "metadata": {
        "id": "eGr-gOliTkKk"
      },
      "execution_count": null,
      "outputs": []
    },
    {
      "cell_type": "code",
      "source": [
        "mod = KNeighborsRegressor()"
      ],
      "metadata": {
        "id": "oKP3Yq5zT0s1"
      },
      "execution_count": null,
      "outputs": []
    },
    {
      "cell_type": "code",
      "source": [
        "mod.fit(x,y)"
      ],
      "metadata": {
        "colab": {
          "base_uri": "https://localhost:8080/",
          "height": 72
        },
        "id": "sYzhfgF8T8zV",
        "outputId": "247b2c59-1743-40c0-8150-e40c9540c620"
      },
      "execution_count": null,
      "outputs": [
        {
          "output_type": "execute_result",
          "data": {
            "text/plain": [
              "KNeighborsRegressor()"
            ],
            "text/html": [
              "<style>#sk-container-id-5 {color: black;}#sk-container-id-5 pre{padding: 0;}#sk-container-id-5 div.sk-toggleable {background-color: white;}#sk-container-id-5 label.sk-toggleable__label {cursor: pointer;display: block;width: 100%;margin-bottom: 0;padding: 0.3em;box-sizing: border-box;text-align: center;}#sk-container-id-5 label.sk-toggleable__label-arrow:before {content: \"▸\";float: left;margin-right: 0.25em;color: #696969;}#sk-container-id-5 label.sk-toggleable__label-arrow:hover:before {color: black;}#sk-container-id-5 div.sk-estimator:hover label.sk-toggleable__label-arrow:before {color: black;}#sk-container-id-5 div.sk-toggleable__content {max-height: 0;max-width: 0;overflow: hidden;text-align: left;background-color: #f0f8ff;}#sk-container-id-5 div.sk-toggleable__content pre {margin: 0.2em;color: black;border-radius: 0.25em;background-color: #f0f8ff;}#sk-container-id-5 input.sk-toggleable__control:checked~div.sk-toggleable__content {max-height: 200px;max-width: 100%;overflow: auto;}#sk-container-id-5 input.sk-toggleable__control:checked~label.sk-toggleable__label-arrow:before {content: \"▾\";}#sk-container-id-5 div.sk-estimator input.sk-toggleable__control:checked~label.sk-toggleable__label {background-color: #d4ebff;}#sk-container-id-5 div.sk-label input.sk-toggleable__control:checked~label.sk-toggleable__label {background-color: #d4ebff;}#sk-container-id-5 input.sk-hidden--visually {border: 0;clip: rect(1px 1px 1px 1px);clip: rect(1px, 1px, 1px, 1px);height: 1px;margin: -1px;overflow: hidden;padding: 0;position: absolute;width: 1px;}#sk-container-id-5 div.sk-estimator {font-family: monospace;background-color: #f0f8ff;border: 1px dotted black;border-radius: 0.25em;box-sizing: border-box;margin-bottom: 0.5em;}#sk-container-id-5 div.sk-estimator:hover {background-color: #d4ebff;}#sk-container-id-5 div.sk-parallel-item::after {content: \"\";width: 100%;border-bottom: 1px solid gray;flex-grow: 1;}#sk-container-id-5 div.sk-label:hover label.sk-toggleable__label {background-color: #d4ebff;}#sk-container-id-5 div.sk-serial::before {content: \"\";position: absolute;border-left: 1px solid gray;box-sizing: border-box;top: 0;bottom: 0;left: 50%;z-index: 0;}#sk-container-id-5 div.sk-serial {display: flex;flex-direction: column;align-items: center;background-color: white;padding-right: 0.2em;padding-left: 0.2em;position: relative;}#sk-container-id-5 div.sk-item {position: relative;z-index: 1;}#sk-container-id-5 div.sk-parallel {display: flex;align-items: stretch;justify-content: center;background-color: white;position: relative;}#sk-container-id-5 div.sk-item::before, #sk-container-id-5 div.sk-parallel-item::before {content: \"\";position: absolute;border-left: 1px solid gray;box-sizing: border-box;top: 0;bottom: 0;left: 50%;z-index: -1;}#sk-container-id-5 div.sk-parallel-item {display: flex;flex-direction: column;z-index: 1;position: relative;background-color: white;}#sk-container-id-5 div.sk-parallel-item:first-child::after {align-self: flex-end;width: 50%;}#sk-container-id-5 div.sk-parallel-item:last-child::after {align-self: flex-start;width: 50%;}#sk-container-id-5 div.sk-parallel-item:only-child::after {width: 0;}#sk-container-id-5 div.sk-dashed-wrapped {border: 1px dashed gray;margin: 0 0.4em 0.5em 0.4em;box-sizing: border-box;padding-bottom: 0.4em;background-color: white;}#sk-container-id-5 div.sk-label label {font-family: monospace;font-weight: bold;display: inline-block;line-height: 1.2em;}#sk-container-id-5 div.sk-label-container {text-align: center;}#sk-container-id-5 div.sk-container {/* jupyter's `normalize.less` sets `[hidden] { display: none; }` but bootstrap.min.css set `[hidden] { display: none !important; }` so we also need the `!important` here to be able to override the default hidden behavior on the sphinx rendered scikit-learn.org. See: https://github.com/scikit-learn/scikit-learn/issues/21755 */display: inline-block !important;position: relative;}#sk-container-id-5 div.sk-text-repr-fallback {display: none;}</style><div id=\"sk-container-id-5\" class=\"sk-top-container\"><div class=\"sk-text-repr-fallback\"><pre>KNeighborsRegressor()</pre><b>In a Jupyter environment, please rerun this cell to show the HTML representation or trust the notebook. <br />On GitHub, the HTML representation is unable to render, please try loading this page with nbviewer.org.</b></div><div class=\"sk-container\" hidden><div class=\"sk-item\"><div class=\"sk-estimator sk-toggleable\"><input class=\"sk-toggleable__control sk-hidden--visually\" id=\"sk-estimator-id-5\" type=\"checkbox\" checked><label for=\"sk-estimator-id-5\" class=\"sk-toggleable__label sk-toggleable__label-arrow\">KNeighborsRegressor</label><div class=\"sk-toggleable__content\"><pre>KNeighborsRegressor()</pre></div></div></div></div></div>"
            ]
          },
          "metadata": {},
          "execution_count": 22
        }
      ]
    },
    {
      "cell_type": "code",
      "source": [
        "mod.predict(x)"
      ],
      "metadata": {
        "colab": {
          "base_uri": "https://localhost:8080/"
        },
        "id": "AX7AofmdUFqg",
        "outputId": "4119d017-4c4f-43bb-db6e-bb2e81fa1b42"
      },
      "execution_count": null,
      "outputs": [
        {
          "output_type": "execute_result",
          "data": {
            "text/plain": [
              "array([181.4,  80.8, 150.8, 203.4, 119.4, 108. ,  83.6, 120.6, 127.8,\n",
              "       187.8, 121.4, 129.6,  98.8, 166.8, 106.6, 144. , 174.4, 177.8,\n",
              "       132.8, 142. ,  80. ,  73.4, 113.4, 273.8, 151.4, 126.4, 132. ,\n",
              "       137.8, 107.2, 192.2, 154.6,  65. , 287.8,  78.6,  78.6, 109.6,\n",
              "       175.2, 172.6, 235. ,  76.4, 158.6, 113.4,  97.6,  74. , 257. ,\n",
              "        92.8, 163. , 150.2, 110.8, 145.4, 121.2, 152.4, 130.6,  94. ,\n",
              "       157.2,  88.8, 137.2, 101. , 132.2, 156.6, 115. , 124. ,  65.8,\n",
              "       132.4, 128.4, 154.4, 119.6,  88.8,  96.2, 136.6,  81.6, 234.6,\n",
              "       174.4, 109.8, 133.2,  72. , 171.8, 106.6, 179.4, 121.6, 134.4,\n",
              "       107.8,  69.2, 141.2,  80. , 108.6,  92.8, 124.6,  68.6, 110.6,\n",
              "        95. , 136.4, 153.4,  82.8,  83.8, 126.8, 170.6, 165.8,  88.6,\n",
              "       126.2, 158.8,  86.2, 151.8, 155.4, 139.4,  87. , 115. , 143.2,\n",
              "       181. , 183. ,  71.2,  99.4, 134.8, 202. , 277.4, 165.4, 255.4,\n",
              "       207. , 126.6, 132.2, 130. , 202. , 232.4, 158.2, 136.4, 166.4,\n",
              "       111.6,  92.8, 112.2, 204.4, 255.4, 105.4, 106. ,  77. , 155.2,\n",
              "       250.8,  85.6, 261.2, 265.2, 250.2, 163.6, 272.4, 207.4,  99.6,\n",
              "       192.6, 220.4, 142.8, 235.4,  89. , 143. , 223.6, 121.6, 221.2,\n",
              "       131.4, 180.4, 233. , 122.6, 122.4, 100.2, 230.6,  85.2, 227.6,\n",
              "       129.6, 248.2, 135.6,  88.2,  73.4, 211.4, 261.6, 189.2,  71.2,\n",
              "        64.2, 278.8,  93. , 119.2, 103. , 221.8, 199.4, 106.8, 185.6,\n",
              "       112.2,  75.8, 193.8, 174.8, 237.2, 125.8, 151.4,  98. , 165. ,\n",
              "       114. , 193.2, 123.4,  94.6, 158.4, 130.2, 192.6,  74.2, 169. ,\n",
              "       166.4, 184.6,  96.8,  71.4, 166.6, 211.8, 201.8, 192.4, 173.2,\n",
              "       232. , 234.8, 135.2,  97. , 148.8, 134.6,  92.8,  89.6, 258.8,\n",
              "       230.8, 241.2, 169.4, 142.2,  82.8, 136.4, 134. , 146.8,  62.8,\n",
              "       181. ,  84.6, 110.2, 146.8,  65. , 193.8, 126. , 174.6,  98.2,\n",
              "       246. , 144.6, 133.8,  81.8, 143.6, 139. , 244.6, 136.6,  65.4,\n",
              "        87.6,  89.6, 128.8, 121.4, 102. , 171.4, 179. , 271.6, 239.6,\n",
              "       142.6, 168. , 278. , 117. , 220.4,  96. , 122.4, 101.8,  79.4,\n",
              "       124.4, 274.8,  84.8, 105. ,  79.6,  62.2, 156.8, 265.2, 116.4,\n",
              "       179. , 156. , 148.8, 203.6, 168.6, 116.6, 170.6,  82.8, 108.2,\n",
              "        96.2, 220. ,  93. , 156.2,  87. , 126.4, 215. ,  69.4, 139. ,\n",
              "        83.2, 150.8, 265.2, 198. ,  84. , 173.2,  74. ,  97.8,  83.2,\n",
              "        78.8, 145.6, 105. , 212. , 133.2, 195.2, 223.6, 131.2, 186.4,\n",
              "       136.6, 156.8,  85. , 141. , 226.6, 167.8, 101.2, 209.8, 142.4,\n",
              "        76.2, 153.6, 152.8, 137.4, 201. , 146.6, 245.6, 264.4, 247.6,\n",
              "       156.8, 201.8, 110.8, 207.2, 111.4,  77.8, 170.6, 128.4, 266.4,\n",
              "       173. ,  81.4, 106.2, 237. , 127.8, 131.8, 135.6, 169. , 167.4,\n",
              "       167.6, 180.2, 185. , 139.2, 173.2,  97.6, 140.2,  97.8, 273.4,\n",
              "        68. ,  74.6, 130.4, 198.2,  97.8,  63.4, 139.8,  91.6, 204.6,\n",
              "       192.8, 111.2, 265.2,  94.2, 171.8, 211. , 192.8, 228.2, 235.8,\n",
              "       167.4,  88.2, 197.2,  69.6, 181.4, 161.4, 221.2, 193.8, 188.6,\n",
              "       167.6, 101.2, 181.8,  94. , 228.4, 110. , 157.4, 156.2, 120.2,\n",
              "       124.4, 131.4,  67.4, 260.4,  88.2, 108.2, 108. , 242.2, 172.6,\n",
              "        61.2, 189. , 163. , 217. , 169. ,  75. , 132.4, 208.4, 184.2,\n",
              "       238.6, 110.8, 164.2, 202.2, 183.2, 169. , 138.8, 239. , 120.6,\n",
              "       144. , 166.4, 241.8, 103.8, 141.6,  83.8, 124.4, 191.8, 207.8,\n",
              "       179.6, 119.6, 108. , 189.6, 130.8, 295.2,  76.4, 154.4, 132.8,\n",
              "       213.6,  86.6, 100.8, 102. ,  68.2, 156. , 134. , 100.8, 176. ,\n",
              "        80.4])"
            ]
          },
          "metadata": {},
          "execution_count": 9
        }
      ]
    },
    {
      "cell_type": "markdown",
      "source": [
        "# **Linear Regression**"
      ],
      "metadata": {
        "id": "XwW7-2vWUddo"
      }
    },
    {
      "cell_type": "code",
      "source": [
        "from sklearn.linear_model import LinearRegression"
      ],
      "metadata": {
        "id": "DsJN3FTSUgOs"
      },
      "execution_count": null,
      "outputs": []
    },
    {
      "cell_type": "code",
      "source": [
        "mod = LinearRegression()"
      ],
      "metadata": {
        "id": "fUk-vXalUunD"
      },
      "execution_count": null,
      "outputs": []
    },
    {
      "cell_type": "code",
      "source": [
        "mod.fit(x,y)"
      ],
      "metadata": {
        "colab": {
          "base_uri": "https://localhost:8080/",
          "height": 72
        },
        "id": "Jx8jqK7HUyGw",
        "outputId": "7cc68a25-25b8-4a05-d921-85b31a9d336c"
      },
      "execution_count": null,
      "outputs": [
        {
          "output_type": "execute_result",
          "data": {
            "text/plain": [
              "LinearRegression()"
            ],
            "text/html": [
              "<style>#sk-container-id-7 {color: black;}#sk-container-id-7 pre{padding: 0;}#sk-container-id-7 div.sk-toggleable {background-color: white;}#sk-container-id-7 label.sk-toggleable__label {cursor: pointer;display: block;width: 100%;margin-bottom: 0;padding: 0.3em;box-sizing: border-box;text-align: center;}#sk-container-id-7 label.sk-toggleable__label-arrow:before {content: \"▸\";float: left;margin-right: 0.25em;color: #696969;}#sk-container-id-7 label.sk-toggleable__label-arrow:hover:before {color: black;}#sk-container-id-7 div.sk-estimator:hover label.sk-toggleable__label-arrow:before {color: black;}#sk-container-id-7 div.sk-toggleable__content {max-height: 0;max-width: 0;overflow: hidden;text-align: left;background-color: #f0f8ff;}#sk-container-id-7 div.sk-toggleable__content pre {margin: 0.2em;color: black;border-radius: 0.25em;background-color: #f0f8ff;}#sk-container-id-7 input.sk-toggleable__control:checked~div.sk-toggleable__content {max-height: 200px;max-width: 100%;overflow: auto;}#sk-container-id-7 input.sk-toggleable__control:checked~label.sk-toggleable__label-arrow:before {content: \"▾\";}#sk-container-id-7 div.sk-estimator input.sk-toggleable__control:checked~label.sk-toggleable__label {background-color: #d4ebff;}#sk-container-id-7 div.sk-label input.sk-toggleable__control:checked~label.sk-toggleable__label {background-color: #d4ebff;}#sk-container-id-7 input.sk-hidden--visually {border: 0;clip: rect(1px 1px 1px 1px);clip: rect(1px, 1px, 1px, 1px);height: 1px;margin: -1px;overflow: hidden;padding: 0;position: absolute;width: 1px;}#sk-container-id-7 div.sk-estimator {font-family: monospace;background-color: #f0f8ff;border: 1px dotted black;border-radius: 0.25em;box-sizing: border-box;margin-bottom: 0.5em;}#sk-container-id-7 div.sk-estimator:hover {background-color: #d4ebff;}#sk-container-id-7 div.sk-parallel-item::after {content: \"\";width: 100%;border-bottom: 1px solid gray;flex-grow: 1;}#sk-container-id-7 div.sk-label:hover label.sk-toggleable__label {background-color: #d4ebff;}#sk-container-id-7 div.sk-serial::before {content: \"\";position: absolute;border-left: 1px solid gray;box-sizing: border-box;top: 0;bottom: 0;left: 50%;z-index: 0;}#sk-container-id-7 div.sk-serial {display: flex;flex-direction: column;align-items: center;background-color: white;padding-right: 0.2em;padding-left: 0.2em;position: relative;}#sk-container-id-7 div.sk-item {position: relative;z-index: 1;}#sk-container-id-7 div.sk-parallel {display: flex;align-items: stretch;justify-content: center;background-color: white;position: relative;}#sk-container-id-7 div.sk-item::before, #sk-container-id-7 div.sk-parallel-item::before {content: \"\";position: absolute;border-left: 1px solid gray;box-sizing: border-box;top: 0;bottom: 0;left: 50%;z-index: -1;}#sk-container-id-7 div.sk-parallel-item {display: flex;flex-direction: column;z-index: 1;position: relative;background-color: white;}#sk-container-id-7 div.sk-parallel-item:first-child::after {align-self: flex-end;width: 50%;}#sk-container-id-7 div.sk-parallel-item:last-child::after {align-self: flex-start;width: 50%;}#sk-container-id-7 div.sk-parallel-item:only-child::after {width: 0;}#sk-container-id-7 div.sk-dashed-wrapped {border: 1px dashed gray;margin: 0 0.4em 0.5em 0.4em;box-sizing: border-box;padding-bottom: 0.4em;background-color: white;}#sk-container-id-7 div.sk-label label {font-family: monospace;font-weight: bold;display: inline-block;line-height: 1.2em;}#sk-container-id-7 div.sk-label-container {text-align: center;}#sk-container-id-7 div.sk-container {/* jupyter's `normalize.less` sets `[hidden] { display: none; }` but bootstrap.min.css set `[hidden] { display: none !important; }` so we also need the `!important` here to be able to override the default hidden behavior on the sphinx rendered scikit-learn.org. See: https://github.com/scikit-learn/scikit-learn/issues/21755 */display: inline-block !important;position: relative;}#sk-container-id-7 div.sk-text-repr-fallback {display: none;}</style><div id=\"sk-container-id-7\" class=\"sk-top-container\"><div class=\"sk-text-repr-fallback\"><pre>LinearRegression()</pre><b>In a Jupyter environment, please rerun this cell to show the HTML representation or trust the notebook. <br />On GitHub, the HTML representation is unable to render, please try loading this page with nbviewer.org.</b></div><div class=\"sk-container\" hidden><div class=\"sk-item\"><div class=\"sk-estimator sk-toggleable\"><input class=\"sk-toggleable__control sk-hidden--visually\" id=\"sk-estimator-id-7\" type=\"checkbox\" checked><label for=\"sk-estimator-id-7\" class=\"sk-toggleable__label sk-toggleable__label-arrow\">LinearRegression</label><div class=\"sk-toggleable__content\"><pre>LinearRegression()</pre></div></div></div></div></div>"
            ]
          },
          "metadata": {},
          "execution_count": 74
        }
      ]
    },
    {
      "cell_type": "code",
      "source": [
        "import matplotlib.pyplot as plt\n",
        "pred = mod.predict(x)\n",
        "plt.scatter(pred, y)\n",
        "plt.show()"
      ],
      "metadata": {
        "colab": {
          "base_uri": "https://localhost:8080/",
          "height": 429
        },
        "id": "sUPSioIiUyL5",
        "outputId": "0c443cbf-f616-449c-f8f2-a9794b01c3a3"
      },
      "execution_count": null,
      "outputs": [
        {
          "output_type": "display_data",
          "data": {
            "text/plain": [
              "<Figure size 640x480 with 1 Axes>"
            ],
            "image/png": "[encoded data removed]"
          },
          "metadata": {}
        }
      ]
    },
    {
      "cell_type": "markdown",
      "source": [
        "# **Pipeline dan Preprocessing**"
      ],
      "metadata": {
        "id": "QWqEiYcUYrT5"
      }
    },
    {
      "cell_type": "code",
      "source": [
        "from sklearn.neighbors import KNeighborsRegressor\n",
        "import matplotlib.pylab as plt\n",
        "from sklearn.preprocessing import StandardScaler\n",
        "from sklearn.pipeline import Pipeline #untuk menyambungkan preprocessing satu dengan lainnya"
      ],
      "metadata": {
        "id": "N55lYrNcYuJ5"
      },
      "execution_count": null,
      "outputs": []
    },
    {
      "cell_type": "code",
      "source": [
        "mod = KNeighborsRegressor().fit(x,y)"
      ],
      "metadata": {
        "id": "hl8JPxqeZPXY"
      },
      "execution_count": null,
      "outputs": []
    },
    {
      "cell_type": "code",
      "source": [
        "pipe = Pipeline([\n",
        "    (\"scale\", StandardScaler()),\n",
        "    #Pass the object not class, jadi harus pake kurung ( )\n",
        "    #Ini adalah list beberapa tuple, membutuhkan nama dan step\n",
        "    (\"model\", KNeighborsRegressor(n_neighbors = 1))\n",
        "    #Kasih modelnya\n",
        "])"
      ],
      "metadata": {
        "id": "k-wIkXIqb-xu"
      },
      "execution_count": null,
      "outputs": []
    },
    {
      "cell_type": "code",
      "source": [
        "pipe.fit(x,y)\n",
        "#Seluruh pipe akan train dan fit dengan sendiri\n",
        "predicts = pipe.predict(x)\n",
        "#Buat prediksi"
      ],
      "metadata": {
        "id": "oN1uxw0caS7K"
      },
      "execution_count": null,
      "outputs": []
    },
    {
      "cell_type": "code",
      "source": [
        "plt.scatter(predicts,y)\n",
        "plt.show()"
      ],
      "metadata": {
        "colab": {
          "base_uri": "https://localhost:8080/",
          "height": 429
        },
        "id": "zlAE9iNKcTFL",
        "outputId": "7d28152c-cdf7-41c8-be87-9a55db1e2dd9"
      },
      "execution_count": null,
      "outputs": [
        {
          "output_type": "display_data",
          "data": {
            "text/plain": [
              "<Figure size 640x480 with 1 Axes>"
            ],
            "image/png": "[encoded data removed]"
          },
          "metadata": {}
        }
      ]
    },
    {
      "cell_type": "markdown",
      "source": [
        "# **GridSearch**"
      ],
      "metadata": {
        "id": "QC8fGSLbizLc"
      }
    },
    {
      "cell_type": "code",
      "source": [
        "from sklearn.neighbors import KNeighborsRegressor\n",
        "import matplotlib.pylab as plt\n",
        "from sklearn.preprocessing import StandardScaler\n",
        "from sklearn.pipeline import Pipeline\n",
        "from sklearn.model_selection import GridSearchCV"
      ],
      "metadata": {
        "id": "zn_3cwjDi0vr"
      },
      "execution_count": null,
      "outputs": []
    },
    {
      "cell_type": "markdown",
      "source": [
        "Kode dibawah ini bisa jadi referensi saat menggunakan scikit"
      ],
      "metadata": {
        "id": "_EwQvvndopAz"
      }
    },
    {
      "cell_type": "code",
      "source": [
        "pipe2 = Pipeline([\n",
        "    (\"scale\", StandardScaler()),\n",
        "    (\"model\", KNeighborsRegressor(n_neighbors = 3))\n",
        "])\n",
        "\n",
        "pipe2.get_params()\n",
        "#setting yang bisa diatur pada param_grid di GridSearch"
      ],
      "metadata": {
        "colab": {
          "base_uri": "https://localhost:8080/"
        },
        "id": "PsnTmg6ij-m3",
        "outputId": "3343beca-c379-43f9-d892-6ca10dce331d"
      },
      "execution_count": null,
      "outputs": [
        {
          "output_type": "execute_result",
          "data": {
            "text/plain": [
              "{'memory': None,\n",
              " 'steps': [('scale', StandardScaler()),\n",
              "  ('model', KNeighborsRegressor(n_neighbors=3))],\n",
              " 'verbose': False,\n",
              " 'scale': StandardScaler(),\n",
              " 'model': KNeighborsRegressor(n_neighbors=3),\n",
              " 'scale__copy': True,\n",
              " 'scale__with_mean': True,\n",
              " 'scale__with_std': True,\n",
              " 'model__algorithm': 'auto',\n",
              " 'model__leaf_size': 30,\n",
              " 'model__metric': 'minkowski',\n",
              " 'model__metric_params': None,\n",
              " 'model__n_jobs': None,\n",
              " 'model__n_neighbors': 3,\n",
              " 'model__p': 2,\n",
              " 'model__weights': 'uniform'}"
            ]
          },
          "metadata": {},
          "execution_count": 101
        }
      ]
    },
    {
      "cell_type": "code",
      "source": [
        "model = GridSearchCV(estimator = pipe, #estimator adalah sesuatu yang punya .fit() dan .predict() contohnya pipe\n",
        "             param_grid = {'model__n_neighbors': [1,2,3,4,5,6,7,8,9,10]}, #parameter grid adalah representasi setting untuk pipeline, disini ngecek angka 1-10 untuk n_neighbors\n",
        "             cv = 3) #cross validation"
      ],
      "metadata": {
        "id": "GIm5e-tdjJEQ"
      },
      "execution_count": null,
      "outputs": []
    },
    {
      "cell_type": "code",
      "source": [
        "#setelah model jadi, panggil dengan model.fit\n",
        "model.fit(x,y)\n",
        "model.cv_results_"
      ],
      "metadata": {
        "colab": {
          "base_uri": "https://localhost:8080/"
        },
        "id": "XY3-aojUnmYx",
        "outputId": "c9e73a45-8330-48e6-92de-6b019fd2e2ab"
      },
      "execution_count": null,
      "outputs": [
        {
          "output_type": "execute_result",
          "data": {
            "text/plain": [
              "{'mean_fit_time': array([0.00349553, 0.00276868, 0.00248265, 0.00262237, 0.00229446,\n",
              "        0.00274396, 0.00214036, 0.00212447, 0.00222993, 0.00221443]),\n",
              " 'std_fit_time': array([1.16980068e-03, 3.64629466e-04, 4.57216970e-05, 2.70516812e-04,\n",
              "        5.63668226e-05, 2.43616426e-04, 3.61754312e-06, 1.69945608e-05,\n",
              "        5.55919328e-05, 5.26683856e-06]),\n",
              " 'mean_score_time': array([0.00589474, 0.00428891, 0.00329487, 0.00361872, 0.00332578,\n",
              "        0.00363525, 0.00324019, 0.00321325, 0.00329661, 0.00337879]),\n",
              " 'std_score_time': array([2.30421676e-03, 8.35769111e-04, 8.40867173e-05, 1.05530500e-03,\n",
              "        9.98197467e-05, 3.17635194e-04, 1.16920324e-04, 3.61476604e-05,\n",
              "        3.74506945e-05, 3.53274517e-06]),\n",
              " 'param_model__n_neighbors': masked_array(data=[1, 2, 3, 4, 5, 6, 7, 8, 9, 10],\n",
              "              mask=[False, False, False, False, False, False, False, False,\n",
              "                    False, False],\n",
              "        fill_value='?',\n",
              "             dtype=object),\n",
              " 'params': [{'model__n_neighbors': 1},\n",
              "  {'model__n_neighbors': 2},\n",
              "  {'model__n_neighbors': 3},\n",
              "  {'model__n_neighbors': 4},\n",
              "  {'model__n_neighbors': 5},\n",
              "  {'model__n_neighbors': 6},\n",
              "  {'model__n_neighbors': 7},\n",
              "  {'model__n_neighbors': 8},\n",
              "  {'model__n_neighbors': 9},\n",
              "  {'model__n_neighbors': 10}],\n",
              " 'split0_test_score': array([0.10597623, 0.26888886, 0.33305693, 0.34240655, 0.35886501,\n",
              "        0.37266452, 0.41258356, 0.4144783 , 0.41419132, 0.40898932]),\n",
              " 'split1_test_score': array([0.12409247, 0.33937912, 0.38274397, 0.40470137, 0.37719828,\n",
              "        0.38992334, 0.39368142, 0.40977867, 0.412035  , 0.40530315]),\n",
              " 'split2_test_score': array([-0.15852256,  0.26456273,  0.35689912,  0.40990989,  0.41254918,\n",
              "         0.43638934,  0.44614745,  0.48585014,  0.52846174,  0.54437137]),\n",
              " 'mean_test_score': array([0.02384871, 0.29094357, 0.35756667, 0.3856726 , 0.38287082,\n",
              "        0.39965907, 0.41747081, 0.43670237, 0.45156269, 0.45288794]),\n",
              " 'std_test_score': array([0.12916788, 0.03429461, 0.02029014, 0.03066753, 0.0222805 ,\n",
              "        0.02691098, 0.02169616, 0.03480564, 0.05438297, 0.06470605]),\n",
              " 'rank_test_score': array([10,  9,  8,  6,  7,  5,  4,  3,  2,  1], dtype=int32)}"
            ]
          },
          "metadata": {},
          "execution_count": 103
        }
      ]
    },
    {
      "cell_type": "code",
      "source": [
        "import pandas as pd\n",
        "pd.DataFrame(model.cv_results_)"
      ],
      "metadata": {
        "colab": {
          "base_uri": "https://localhost:8080/",
          "height": 537
        },
        "id": "o2C3jg4Fn613",
        "outputId": "0e7f3696-6ec5-4e58-c0bc-c36b203a0371"
      },
      "execution_count": null,
      "outputs": [
        {
          "output_type": "execute_result",
          "data": {
            "text/plain": [
              "   mean_fit_time  std_fit_time  mean_score_time  std_score_time  \\\n",
              "0       0.003496      0.001170         0.005895        0.002304   \n",
              "1       0.002769      0.000365         0.004289        0.000836   \n",
              "2       0.002483      0.000046         0.003295        0.000084   \n",
              "3       0.002622      0.000271         0.003619        0.001055   \n",
              "4       0.002294      0.000056         0.003326        0.000100   \n",
              "5       0.002744      0.000244         0.003635        0.000318   \n",
              "6       0.002140      0.000004         0.003240        0.000117   \n",
              "7       0.002124      0.000017         0.003213        0.000036   \n",
              "8       0.002230      0.000056         0.003297        0.000037   \n",
              "9       0.002214      0.000005         0.003379        0.000004   \n",
              "\n",
              "  param_model__n_neighbors                      params  split0_test_score  \\\n",
              "0                        1   {'model__n_neighbors': 1}           0.105976   \n",
              "1                        2   {'model__n_neighbors': 2}           0.268889   \n",
              "2                        3   {'model__n_neighbors': 3}           0.333057   \n",
              "3                        4   {'model__n_neighbors': 4}           0.342407   \n",
              "4                        5   {'model__n_neighbors': 5}           0.358865   \n",
              "5                        6   {'model__n_neighbors': 6}           0.372665   \n",
              "6                        7   {'model__n_neighbors': 7}           0.412584   \n",
              "7                        8   {'model__n_neighbors': 8}           0.414478   \n",
              "8                        9   {'model__n_neighbors': 9}           0.414191   \n",
              "9                       10  {'model__n_neighbors': 10}           0.408989   \n",
              "\n",
              "   split1_test_score  split2_test_score  mean_test_score  std_test_score  \\\n",
              "0           0.124092          -0.158523         0.023849        0.129168   \n",
              "1           0.339379           0.264563         0.290944        0.034295   \n",
              "2           0.382744           0.356899         0.357567        0.020290   \n",
              "3           0.404701           0.409910         0.385673        0.030668   \n",
              "4           0.377198           0.412549         0.382871        0.022280   \n",
              "5           0.389923           0.436389         0.399659        0.026911   \n",
              "6           0.393681           0.446147         0.417471        0.021696   \n",
              "7           0.409779           0.485850         0.436702        0.034806   \n",
              "8           0.412035           0.528462         0.451563        0.054383   \n",
              "9           0.405303           0.544371         0.452888        0.064706   \n",
              "\n",
              "   rank_test_score  \n",
              "0               10  \n",
              "1                9  \n",
              "2                8  \n",
              "3                6  \n",
              "4                7  \n",
              "5                5  \n",
              "6                4  \n",
              "7                3  \n",
              "8                2  \n",
              "9                1  "
            ],
            "text/html": [
              "\n",
              "  <div id=\"df-02abbf30-f783-4b2a-89f9-9666811831ef\" class=\"colab-df-container\">\n",
              "    <div>\n",
              "<style scoped>\n",
              "    .dataframe tbody tr th:only-of-type {\n",
              "        vertical-align: middle;\n",
              "    }\n",
              "\n",
              "    .dataframe tbody tr th {\n",
              "        vertical-align: top;\n",
              "    }\n",
              "\n",
              "    .dataframe thead th {\n",
              "        text-align: right;\n",
              "    }\n",
              "</style>\n",
              "<table border=\"1\" class=\"dataframe\">\n",
              "  <thead>\n",
              "    <tr style=\"text-align: right;\">\n",
              "      <th></th>\n",
              "      <th>mean_fit_time</th>\n",
              "      <th>std_fit_time</th>\n",
              "      <th>mean_score_time</th>\n",
              "      <th>std_score_time</th>\n",
              "      <th>param_model__n_neighbors</th>\n",
              "      <th>params</th>\n",
              "      <th>split0_test_score</th>\n",
              "      <th>split1_test_score</th>\n",
              "      <th>split2_test_score</th>\n",
              "      <th>mean_test_score</th>\n",
              "      <th>std_test_score</th>\n",
              "      <th>rank_test_score</th>\n",
              "    </tr>\n",
              "  </thead>\n",
              "  <tbody>\n",
              "    <tr>\n",
              "      <th>0</th>\n",
              "      <td>0.003496</td>\n",
              "      <td>0.001170</td>\n",
              "      <td>0.005895</td>\n",
              "      <td>0.002304</td>\n",
              "      <td>1</td>\n",
              "      <td>{'model__n_neighbors': 1}</td>\n",
              "      <td>0.105976</td>\n",
              "      <td>0.124092</td>\n",
              "      <td>-0.158523</td>\n",
              "      <td>0.023849</td>\n",
              "      <td>0.129168</td>\n",
              "      <td>10</td>\n",
              "    </tr>\n",
              "    <tr>\n",
              "      <th>1</th>\n",
              "      <td>0.002769</td>\n",
              "      <td>0.000365</td>\n",
              "      <td>0.004289</td>\n",
              "      <td>0.000836</td>\n",
              "      <td>2</td>\n",
              "      <td>{'model__n_neighbors': 2}</td>\n",
              "      <td>0.268889</td>\n",
              "      <td>0.339379</td>\n",
              "      <td>0.264563</td>\n",
              "      <td>0.290944</td>\n",
              "      <td>0.034295</td>\n",
              "      <td>9</td>\n",
              "    </tr>\n",
              "    <tr>\n",
              "      <th>2</th>\n",
              "      <td>0.002483</td>\n",
              "      <td>0.000046</td>\n",
              "      <td>0.003295</td>\n",
              "      <td>0.000084</td>\n",
              "      <td>3</td>\n",
              "      <td>{'model__n_neighbors': 3}</td>\n",
              "      <td>0.333057</td>\n",
              "      <td>0.382744</td>\n",
              "      <td>0.356899</td>\n",
              "      <td>0.357567</td>\n",
              "      <td>0.020290</td>\n",
              "      <td>8</td>\n",
              "    </tr>\n",
              "    <tr>\n",
              "      <th>3</th>\n",
              "      <td>0.002622</td>\n",
              "      <td>0.000271</td>\n",
              "      <td>0.003619</td>\n",
              "      <td>0.001055</td>\n",
              "      <td>4</td>\n",
              "      <td>{'model__n_neighbors': 4}</td>\n",
              "      <td>0.342407</td>\n",
              "      <td>0.404701</td>\n",
              "      <td>0.409910</td>\n",
              "      <td>0.385673</td>\n",
              "      <td>0.030668</td>\n",
              "      <td>6</td>\n",
              "    </tr>\n",
              "    <tr>\n",
              "      <th>4</th>\n",
              "      <td>0.002294</td>\n",
              "      <td>0.000056</td>\n",
              "      <td>0.003326</td>\n",
              "      <td>0.000100</td>\n",
              "      <td>5</td>\n",
              "      <td>{'model__n_neighbors': 5}</td>\n",
              "      <td>0.358865</td>\n",
              "      <td>0.377198</td>\n",
              "      <td>0.412549</td>\n",
              "      <td>0.382871</td>\n",
              "      <td>0.022280</td>\n",
              "      <td>7</td>\n",
              "    </tr>\n",
              "    <tr>\n",
              "      <th>5</th>\n",
              "      <td>0.002744</td>\n",
              "      <td>0.000244</td>\n",
              "      <td>0.003635</td>\n",
              "      <td>0.000318</td>\n",
              "      <td>6</td>\n",
              "      <td>{'model__n_neighbors': 6}</td>\n",
              "      <td>0.372665</td>\n",
              "      <td>0.389923</td>\n",
              "      <td>0.436389</td>\n",
              "      <td>0.399659</td>\n",
              "      <td>0.026911</td>\n",
              "      <td>5</td>\n",
              "    </tr>\n",
              "    <tr>\n",
              "      <th>6</th>\n",
              "      <td>0.002140</td>\n",
              "      <td>0.000004</td>\n",
              "      <td>0.003240</td>\n",
              "      <td>0.000117</td>\n",
              "      <td>7</td>\n",
              "      <td>{'model__n_neighbors': 7}</td>\n",
              "      <td>0.412584</td>\n",
              "      <td>0.393681</td>\n",
              "      <td>0.446147</td>\n",
              "      <td>0.417471</td>\n",
              "      <td>0.021696</td>\n",
              "      <td>4</td>\n",
              "    </tr>\n",
              "    <tr>\n",
              "      <th>7</th>\n",
              "      <td>0.002124</td>\n",
              "      <td>0.000017</td>\n",
              "      <td>0.003213</td>\n",
              "      <td>0.000036</td>\n",
              "      <td>8</td>\n",
              "      <td>{'model__n_neighbors': 8}</td>\n",
              "      <td>0.414478</td>\n",
              "      <td>0.409779</td>\n",
              "      <td>0.485850</td>\n",
              "      <td>0.436702</td>\n",
              "      <td>0.034806</td>\n",
              "      <td>3</td>\n",
              "    </tr>\n",
              "    <tr>\n",
              "      <th>8</th>\n",
              "      <td>0.002230</td>\n",
              "      <td>0.000056</td>\n",
              "      <td>0.003297</td>\n",
              "      <td>0.000037</td>\n",
              "      <td>9</td>\n",
              "      <td>{'model__n_neighbors': 9}</td>\n",
              "      <td>0.414191</td>\n",
              "      <td>0.412035</td>\n",
              "      <td>0.528462</td>\n",
              "      <td>0.451563</td>\n",
              "      <td>0.054383</td>\n",
              "      <td>2</td>\n",
              "    </tr>\n",
              "    <tr>\n",
              "      <th>9</th>\n",
              "      <td>0.002214</td>\n",
              "      <td>0.000005</td>\n",
              "      <td>0.003379</td>\n",
              "      <td>0.000004</td>\n",
              "      <td>10</td>\n",
              "      <td>{'model__n_neighbors': 10}</td>\n",
              "      <td>0.408989</td>\n",
              "      <td>0.405303</td>\n",
              "      <td>0.544371</td>\n",
              "      <td>0.452888</td>\n",
              "      <td>0.064706</td>\n",
              "      <td>1</td>\n",
              "    </tr>\n",
              "  </tbody>\n",
              "</table>\n",
              "</div>\n",
              "    <div class=\"colab-df-buttons\">\n",
              "\n",
              "  <div class=\"colab-df-container\">\n",
              "    <button class=\"colab-df-convert\" onclick=\"convertToInteractive('df-02abbf30-f783-4b2a-89f9-9666811831ef')\"\n",
              "            title=\"Convert this dataframe to an interactive table.\"\n",
              "            style=\"display:none;\">\n",
              "\n",
              "  <svg xmlns=\"http://www.w3.org/2000/svg\" height=\"24px\" viewBox=\"0 -960 960 960\">\n",
              "    <path d=\"M120-120v-720h720v720H120Zm60-500h600v-160H180v160Zm220 220h160v-160H400v160Zm0 220h160v-160H400v160ZM180-400h160v-160H180v160Zm440 0h160v-160H620v160ZM180-180h160v-160H180v160Zm440 0h160v-160H620v160Z\"/>\n",
              "  </svg>\n",
              "    </button>\n",
              "\n",
              "  <style>\n",
              "    .colab-df-container {\n",
              "      display:flex;\n",
              "      gap: 12px;\n",
              "    }\n",
              "\n",
              "    .colab-df-convert {\n",
              "      background-color: #E8F0FE;\n",
              "      border: none;\n",
              "      border-radius: 50%;\n",
              "      cursor: pointer;\n",
              "      display: none;\n",
              "      fill: #1967D2;\n",
              "      height: 32px;\n",
              "      padding: 0 0 0 0;\n",
              "      width: 32px;\n",
              "    }\n",
              "\n",
              "    .colab-df-convert:hover {\n",
              "      background-color: #E2EBFA;\n",
              "      box-shadow: 0px 1px 2px rgba(60, 64, 67, 0.3), 0px 1px 3px 1px rgba(60, 64, 67, 0.15);\n",
              "      fill: #174EA6;\n",
              "    }\n",
              "\n",
              "    .colab-df-buttons div {\n",
              "      margin-bottom: 4px;\n",
              "    }\n",
              "\n",
              "    [theme=dark] .colab-df-convert {\n",
              "      background-color: #3B4455;\n",
              "      fill: #D2E3FC;\n",
              "    }\n",
              "\n",
              "    [theme=dark] .colab-df-convert:hover {\n",
              "      background-color: #434B5C;\n",
              "      box-shadow: 0px 1px 3px 1px rgba(0, 0, 0, 0.15);\n",
              "      filter: drop-shadow(0px 1px 2px rgba(0, 0, 0, 0.3));\n",
              "      fill: #FFFFFF;\n",
              "    }\n",
              "  </style>\n",
              "\n",
              "    <script>\n",
              "      const buttonEl =\n",
              "        document.querySelector('#df-02abbf30-f783-4b2a-89f9-9666811831ef button.colab-df-convert');\n",
              "      buttonEl.style.display =\n",
              "        google.colab.kernel.accessAllowed ? 'block' : 'none';\n",
              "\n",
              "      async function convertToInteractive(key) {\n",
              "        const element = document.querySelector('#df-02abbf30-f783-4b2a-89f9-9666811831ef');\n",
              "        const dataTable =\n",
              "          await google.colab.kernel.invokeFunction('convertToInteractive',\n",
              "                                                    [key], {});\n",
              "        if (!dataTable) return;\n",
              "\n",
              "        const docLinkHtml = 'Like what you see? Visit the ' +\n",
              "          '<a target=\"_blank\" href=https://colab.research.google.com/notebooks/data_table.ipynb>data table notebook</a>'\n",
              "          + ' to learn more about interactive tables.';\n",
              "        element.innerHTML = '';\n",
              "        dataTable['output_type'] = 'display_data';\n",
              "        await google.colab.output.renderOutput(dataTable, element);\n",
              "        const docLink = document.createElement('div');\n",
              "        docLink.innerHTML = docLinkHtml;\n",
              "        element.appendChild(docLink);\n",
              "      }\n",
              "    </script>\n",
              "  </div>\n",
              "\n",
              "\n",
              "<div id=\"df-f8b57852-30d9-4917-a3c1-cb336f5872bf\">\n",
              "  <button class=\"colab-df-quickchart\" onclick=\"quickchart('df-f8b57852-30d9-4917-a3c1-cb336f5872bf')\"\n",
              "            title=\"Suggest charts\"\n",
              "            style=\"display:none;\">\n",
              "\n",
              "<svg xmlns=\"http://www.w3.org/2000/svg\" height=\"24px\"viewBox=\"0 0 24 24\"\n",
              "     width=\"24px\">\n",
              "    <g>\n",
              "        <path d=\"M19 3H5c-1.1 0-2 .9-2 2v14c0 1.1.9 2 2 2h14c1.1 0 2-.9 2-2V5c0-1.1-.9-2-2-2zM9 17H7v-7h2v7zm4 0h-2V7h2v10zm4 0h-2v-4h2v4z\"/>\n",
              "    </g>\n",
              "</svg>\n",
              "  </button>\n",
              "\n",
              "<style>\n",
              "  .colab-df-quickchart {\n",
              "      --bg-color: #E8F0FE;\n",
              "      --fill-color: #1967D2;\n",
              "      --hover-bg-color: #E2EBFA;\n",
              "      --hover-fill-color: #174EA6;\n",
              "      --disabled-fill-color: #AAA;\n",
              "      --disabled-bg-color: #DDD;\n",
              "  }\n",
              "\n",
              "  [theme=dark] .colab-df-quickchart {\n",
              "      --bg-color: #3B4455;\n",
              "      --fill-color: #D2E3FC;\n",
              "      --hover-bg-color: #434B5C;\n",
              "      --hover-fill-color: #FFFFFF;\n",
              "      --disabled-bg-color: #3B4455;\n",
              "      --disabled-fill-color: #666;\n",
              "  }\n",
              "\n",
              "  .colab-df-quickchart {\n",
              "    background-color: var(--bg-color);\n",
              "    border: none;\n",
              "    border-radius: 50%;\n",
              "    cursor: pointer;\n",
              "    display: none;\n",
              "    fill: var(--fill-color);\n",
              "    height: 32px;\n",
              "    padding: 0;\n",
              "    width: 32px;\n",
              "  }\n",
              "\n",
              "  .colab-df-quickchart:hover {\n",
              "    background-color: var(--hover-bg-color);\n",
              "    box-shadow: 0 1px 2px rgba(60, 64, 67, 0.3), 0 1px 3px 1px rgba(60, 64, 67, 0.15);\n",
              "    fill: var(--button-hover-fill-color);\n",
              "  }\n",
              "\n",
              "  .colab-df-quickchart-complete:disabled,\n",
              "  .colab-df-quickchart-complete:disabled:hover {\n",
              "    background-color: var(--disabled-bg-color);\n",
              "    fill: var(--disabled-fill-color);\n",
              "    box-shadow: none;\n",
              "  }\n",
              "\n",
              "  .colab-df-spinner {\n",
              "    border: 2px solid var(--fill-color);\n",
              "    border-color: transparent;\n",
              "    border-bottom-color: var(--fill-color);\n",
              "    animation:\n",
              "      spin 1s steps(1) infinite;\n",
              "  }\n",
              "\n",
              "  @keyframes spin {\n",
              "    0% {\n",
              "      border-color: transparent;\n",
              "      border-bottom-color: var(--fill-color);\n",
              "      border-left-color: var(--fill-color);\n",
              "    }\n",
              "    20% {\n",
              "      border-color: transparent;\n",
              "      border-left-color: var(--fill-color);\n",
              "      border-top-color: var(--fill-color);\n",
              "    }\n",
              "    30% {\n",
              "      border-color: transparent;\n",
              "      border-left-color: var(--fill-color);\n",
              "      border-top-color: var(--fill-color);\n",
              "      border-right-color: var(--fill-color);\n",
              "    }\n",
              "    40% {\n",
              "      border-color: transparent;\n",
              "      border-right-color: var(--fill-color);\n",
              "      border-top-color: var(--fill-color);\n",
              "    }\n",
              "    60% {\n",
              "      border-color: transparent;\n",
              "      border-right-color: var(--fill-color);\n",
              "    }\n",
              "    80% {\n",
              "      border-color: transparent;\n",
              "      border-right-color: var(--fill-color);\n",
              "      border-bottom-color: var(--fill-color);\n",
              "    }\n",
              "    90% {\n",
              "      border-color: transparent;\n",
              "      border-bottom-color: var(--fill-color);\n",
              "    }\n",
              "  }\n",
              "</style>\n",
              "\n",
              "  <script>\n",
              "    async function quickchart(key) {\n",
              "      const quickchartButtonEl =\n",
              "        document.querySelector('#' + key + ' button');\n",
              "      quickchartButtonEl.disabled = true;  // To prevent multiple clicks.\n",
              "      quickchartButtonEl.classList.add('colab-df-spinner');\n",
              "      try {\n",
              "        const charts = await google.colab.kernel.invokeFunction(\n",
              "            'suggestCharts', [key], {});\n",
              "      } catch (error) {\n",
              "        console.error('Error during call to suggestCharts:', error);\n",
              "      }\n",
              "      quickchartButtonEl.classList.remove('colab-df-spinner');\n",
              "      quickchartButtonEl.classList.add('colab-df-quickchart-complete');\n",
              "    }\n",
              "    (() => {\n",
              "      let quickchartButtonEl =\n",
              "        document.querySelector('#df-f8b57852-30d9-4917-a3c1-cb336f5872bf button');\n",
              "      quickchartButtonEl.style.display =\n",
              "        google.colab.kernel.accessAllowed ? 'block' : 'none';\n",
              "    })();\n",
              "  </script>\n",
              "</div>\n",
              "\n",
              "    </div>\n",
              "  </div>\n"
            ],
            "application/vnd.google.colaboratory.intrinsic+json": {
              "type": "dataframe",
              "summary": "{\n  \"name\": \"pd\",\n  \"rows\": 10,\n  \"fields\": [\n    {\n      \"column\": \"mean_fit_time\",\n      \"properties\": {\n        \"dtype\": \"number\",\n        \"std\": 0.0004221370096755007,\n        \"min\": 0.0021244684855143228,\n        \"max\": 0.0034955342610677085,\n        \"num_unique_values\": 10,\n        \"samples\": [\n          0.002229928970336914,\n          0.0027686754862467446,\n          0.002743959426879883\n        ],\n        \"semantic_type\": \"\",\n        \"description\": \"\"\n      }\n    },\n    {\n      \"column\": \"std_fit_time\",\n      \"properties\": {\n        \"dtype\": \"number\",\n        \"std\": 0.0003565836612587119,\n        \"min\": 3.6175431177587646e-06,\n        \"max\": 0.0011698006766995965,\n        \"num_unique_values\": 10,\n        \"samples\": [\n          5.55919328376376e-05,\n          0.0003646294656126911,\n          0.00024361642612384475\n        ],\n        \"semantic_type\": \"\",\n        \"description\": \"\"\n      }\n    },\n    {\n      \"column\": \"mean_score_time\",\n      \"properties\": {\n        \"dtype\": \"number\",\n        \"std\": 0.0008292854723222219,\n        \"min\": 0.0032132466634114585,\n        \"max\": 0.0058947404225667315,\n        \"num_unique_values\": 10,\n        \"samples\": [\n          0.0032966136932373047,\n          0.004288911819458008,\n          0.003635247548421224\n        ],\n        \"semantic_type\": \"\",\n        \"description\": \"\"\n      }\n    },\n    {\n      \"column\": \"std_score_time\",\n      \"properties\": {\n        \"dtype\": \"number\",\n        \"std\": 0.0007351369989239268,\n        \"min\": 3.532745165966808e-06,\n        \"max\": 0.0023042167589874046,\n        \"num_unique_values\": 10,\n        \"samples\": [\n          3.745069447916256e-05,\n          0.0008357691111597787,\n          0.0003176351944992209\n        ],\n        \"semantic_type\": \"\",\n        \"description\": \"\"\n      }\n    },\n    {\n      \"column\": \"param_model__n_neighbors\",\n      \"properties\": {\n        \"dtype\": \"date\",\n        \"min\": 1,\n        \"max\": 10,\n        \"num_unique_values\": 10,\n        \"samples\": [\n          9,\n          2,\n          6\n        ],\n        \"semantic_type\": \"\",\n        \"description\": \"\"\n      }\n    },\n    {\n      \"column\": \"params\",\n      \"properties\": {\n        \"dtype\": \"object\",\n        \"semantic_type\": \"\",\n        \"description\": \"\"\n      }\n    },\n    {\n      \"column\": \"split0_test_score\",\n      \"properties\": {\n        \"dtype\": \"number\",\n        \"std\": 0.09561322725773928,\n        \"min\": 0.10597622512002902,\n        \"max\": 0.414478300771393,\n        \"num_unique_values\": 10,\n        \"samples\": [\n          0.41419132203953624,\n          0.2688888601963081,\n          0.3726645240761507\n        ],\n        \"semantic_type\": \"\",\n        \"description\": \"\"\n      }\n    },\n    {\n      \"column\": \"split1_test_score\",\n      \"properties\": {\n        \"dtype\": \"number\",\n        \"std\": 0.0869264114916156,\n        \"min\": 0.12409247482303387,\n        \"max\": 0.41203499523031306,\n        \"num_unique_values\": 10,\n        \"samples\": [\n          0.41203499523031306,\n          0.33937912304315165,\n          0.3899233403169079\n        ],\n        \"semantic_type\": \"\",\n        \"description\": \"\"\n      }\n    },\n    {\n      \"column\": \"split2_test_score\",\n      \"properties\": {\n        \"dtype\": \"number\",\n        \"std\": 0.20360633395183492,\n        \"min\": -0.158522556747122,\n        \"max\": 0.5443713653620645,\n        \"num_unique_values\": 10,\n        \"samples\": [\n          0.5284617424278275,\n          0.26456273290540966,\n          0.4363893415532042\n        ],\n        \"semantic_type\": \"\",\n        \"description\": \"\"\n      }\n    },\n    {\n      \"column\": \"mean_test_score\",\n      \"properties\": {\n        \"dtype\": \"number\",\n        \"std\": 0.1276824943448402,\n        \"min\": 0.02384871439864696,\n        \"max\": 0.45288794434694674,\n        \"num_unique_values\": 10,\n        \"samples\": [\n          0.4515626865658923,\n          0.2909435720482898,\n          0.3996590686487543\n        ],\n        \"semantic_type\": \"\",\n        \"description\": \"\"\n      }\n    },\n    {\n      \"column\": \"std_test_score\",\n      \"properties\": {\n        \"dtype\": \"number\",\n        \"std\": 0.03328317160602696,\n        \"min\": 0.020290140130134523,\n        \"max\": 0.12916787534140237,\n        \"num_unique_values\": 10,\n        \"samples\": [\n          0.05438296933581211,\n          0.03429461371183684,\n          0.026910981590354308\n        ],\n        \"semantic_type\": \"\",\n        \"description\": \"\"\n      }\n    },\n    {\n      \"column\": \"rank_test_score\",\n      \"properties\": {\n        \"dtype\": \"int32\",\n        \"num_unique_values\": 10,\n        \"samples\": [\n          2,\n          9,\n          5\n        ],\n        \"semantic_type\": \"\",\n        \"description\": \"\"\n      }\n    }\n  ]\n}"
            }
          },
          "metadata": {},
          "execution_count": 104
        }
      ]
    }
  ]
}